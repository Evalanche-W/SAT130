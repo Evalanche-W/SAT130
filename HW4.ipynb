{
 "cells": [
  {
   "cell_type": "code",
   "execution_count": 4,
   "id": "861533c1",
   "metadata": {
    "scrolled": true
   },
   "outputs": [],
   "source": [
    "#STA130 HW4"
   ]
  },
  {
   "cell_type": "code",
   "execution_count": null,
   "id": "5d439c23",
   "metadata": {},
   "outputs": [],
   "source": [
    "#All manually writen parts are put into individual boxes to distinguish from the AI writen ones"
   ]
  },
  {
   "cell_type": "code",
   "execution_count": null,
   "id": "74a17e2c",
   "metadata": {},
   "outputs": [],
   "source": [
    "#Pre Lec 1\n",
    "#\"The standard error of the mean\" means taking samples from the population and calulate their means, using these means as a new sample \n",
    "#and calulate its SD. It is nothing to do with the SD of the population, which describes the spread of the population. Instead, it measures \n",
    "#the error of using the sample mean to estimate the population mean."
   ]
  },
  {
   "cell_type": "code",
   "execution_count": null,
   "id": "afcf105f",
   "metadata": {},
   "outputs": [],
   "source": [
    "#Pre Lec 2\n",
    "#We can create that interval by using the original sample mean as the mean of the interval, and add/subtract 1.96 times SE as the \n",
    "#maximum/minimum of the interval, by the nature of the normal distribution (which we assume the bootstraped means form)\n",
    "#that should cover the middle 95% of bootstraped means."
   ]
  },
  {
   "cell_type": "code",
   "execution_count": null,
   "id": "c980bf61",
   "metadata": {},
   "outputs": [],
   "source": [
    "#Pre Lec 3\n",
    "#Since we know all the bootstraped sample means, we simply take the middle 95% of them."
   ]
  },
  {
   "cell_type": "code",
   "execution_count": null,
   "id": "f6d910e9",
   "metadata": {},
   "outputs": [],
   "source": [
    "#Pre Lec 4\n",
    "#The following codes are mainly done by GPT. Since it works well, I didn't remove or change much of the code, including the notes"
   ]
  },
  {
   "cell_type": "code",
   "execution_count": null,
   "id": "a2138eb3",
   "metadata": {},
   "outputs": [],
   "source": [
    "#first we made a convinient sample by ramdom number generater"
   ]
  },
  {
   "cell_type": "code",
   "execution_count": null,
   "id": "e2c537cd",
   "metadata": {},
   "outputs": [],
   "source": [
    "import numpy as np\n",
    "\n",
    "# Generate 20 random numbers between 1 and 100\n",
    "random_sample = np.random.randint(1, 101, 20)\n",
    "random_sample"
   ]
  },
  {
   "cell_type": "code",
   "execution_count": null,
   "id": "c5aefecb",
   "metadata": {},
   "outputs": [],
   "source": [
    "#Then we do bootstraping, calculate all the means of these bootstraped samples and take the middle 95% of the results."
   ]
  },
  {
   "cell_type": "code",
   "execution_count": 11,
   "id": "bfc44154",
   "metadata": {},
   "outputs": [
    {
     "data": {
      "text/plain": [
       "(29.2, 54.35)"
      ]
     },
     "execution_count": 11,
     "metadata": {},
     "output_type": "execute_result"
    }
   ],
   "source": [
    "# Define the correct sample provided by the user\n",
    "sample = [57, 35, 34, 58, 61, 6, 61, 49, 98, 68, 32, 14, 11, 13, 73, 93, 40, 8, 15, 4]\n",
    "\n",
    "# Number of bootstrap samples\n",
    "n_bootstraps = 10000\n",
    "boot_means = np.empty(n_bootstraps)\n",
    "\n",
    "# Perform bootstrapping by resampling with replacement and calculating the mean for each resample\n",
    "for i in range(n_bootstraps):\n",
    "    boot_sample = np.random.choice(sample, size=len(sample), replace=True)\n",
    "    boot_means[i] = np.mean(boot_sample)\n",
    "\n",
    "# Calculate the 95% confidence interval (2.5th and 97.5th percentiles) for the mean\n",
    "ci_mean_lower = np.percentile(boot_means, 2.5)\n",
    "ci_mean_upper = np.percentile(boot_means, 97.5)\n",
    "\n",
    "ci_mean_lower, ci_mean_upper\n"
   ]
  },
  {
   "cell_type": "code",
   "execution_count": null,
   "id": "8a766368",
   "metadata": {},
   "outputs": [],
   "source": [
    "#Then we calculate the SD of these samples. The approach we take is pretty much as same as the previous code."
   ]
  },
  {
   "cell_type": "code",
   "execution_count": 12,
   "id": "b1be1c3e",
   "metadata": {},
   "outputs": [
    {
     "data": {
      "text/plain": [
       "(21.2163788942466, 34.67922079497325)"
      ]
     },
     "execution_count": 12,
     "metadata": {},
     "output_type": "execute_result"
    }
   ],
   "source": [
    "# Using the given sample to recalculate the 95% confidence interval for the population standard deviation\n",
    "\n",
    "# Define the given sample\n",
    "sample = [57, 35, 34, 58, 61, 6, 61, 49, 98, 68, 32, 14, 11, 13, 73, 93, 40, 8, 15, 4]\n",
    "\n",
    "# Number of bootstrap samples\n",
    "n_bootstraps = 10000\n",
    "boot_stds = np.empty(n_bootstraps)\n",
    "\n",
    "# Perform bootstrapping by resampling with replacement and calculating the standard deviation for each resample\n",
    "for i in range(n_bootstraps):\n",
    "    boot_sample = np.random.choice(sample, size=len(sample), replace=True)\n",
    "    boot_stds[i] = np.std(boot_sample, ddof=1)  # Use ddof=1 for sample standard deviation\n",
    "\n",
    "# Calculate the 95% confidence interval (2.5th and 97.5th percentiles) for the population standard deviation\n",
    "ci_sd_lower = np.percentile(boot_stds, 2.5)\n",
    "ci_sd_upper = np.percentile(boot_stds, 97.5)\n",
    "\n",
    "ci_sd_lower, ci_sd_upper\n"
   ]
  },
  {
   "cell_type": "code",
   "execution_count": null,
   "id": "b7720cad",
   "metadata": {},
   "outputs": [],
   "source": [
    "#Post Lec 1\n",
    "#Because we can NEVER know the population parameters with only samples we have, the best guess we can take is a coffidence interval\n",
    "#calculated based on the sample statistic to estimate the population parameters. The confidence interval is not only ambiguous,\n",
    "#but also have a small chance to go wrong.(5% chance for a 95% confidence interval). But it is the best guess we have."
   ]
  },
  {
   "cell_type": "code",
   "execution_count": null,
   "id": "aab413d2",
   "metadata": {},
   "outputs": [],
   "source": [
    "#Post Lec 2\n",
    "#Q1: Bootstraping is: get a sample from the population, pick some elements from the sample with replacement to make a new sample of the\n",
    "#same size, repeat making these simulated samples until we have enough of them; use these \"fictional samples\" to estimate the parameters\n",
    "#we want.\n",
    "\n",
    "#Q2:Bootstraping is using when you need more samples than you have in order to  estimate a parameter. It is a cheap way to estimate sampling.\n",
    "\n",
    "#Q3:We can apply a confidence interval test on the hypothesis to check whether it is sufficient to reject it.The process of creating a \n",
    "#confidence interval have been shown in Pre Lec 4. And the additional thing we do is to check whether h0 falls into the confidence interval. \n",
    "#If yes,then we have no reason to reject H0, vise versa."
   ]
  },
  {
   "cell_type": "code",
   "execution_count": null,
   "id": "04effa9b",
   "metadata": {},
   "outputs": [],
   "source": [
    "#Post Lec 3\n",
    "#Here we assume that H0 is \"population mean is zero.\" Even if the sample mean itself is not zero, because the sample statistics can't \n",
    "#accurately reflect the population parameters, we do not know whether H0 is ture or not with only sample statistics.\n",
    "#Thus, we use bootstraping (or use formula directly) to make a confidence interval. This means, in 95% (or 99% maybe, dependingon situations)\n",
    "#of different dataset, when we take a sample as observed, the population means falls into the interval. As this chance is high,\n",
    "#when zero (as H0 points out) falls into the interval, it is quite possible thgat H0 is ture, and we have no reason to reject it.\n",
    "#If zero falls out of the interval, we would find H0 is false in more than 95% of all possible situations, and thus we should reject H0."
   ]
  },
  {
   "cell_type": "code",
   "execution_count": null,
   "id": "c3122de1",
   "metadata": {},
   "outputs": [],
   "source": [
    "#Post Lec 4: the vaccine problem"
   ]
  },
  {
   "cell_type": "code",
   "execution_count": null,
   "id": "4cab5ec0",
   "metadata": {},
   "outputs": [],
   "source": [
    "#First we define all the statistics listed in the csv file.\n",
    "#then we made a box plot and the scatter plot to measure the status of patients before and after the vaccination.\n",
    "#This is not formal prove whether the vaccine works or not, but it helps us to see the problem visually"
   ]
  },
  {
   "cell_type": "markdown",
   "id": "f9c965c3",
   "metadata": {},
   "source": []
  },
  {
   "cell_type": "code",
   "execution_count": 1,
   "id": "d6657d03",
   "metadata": {},
   "outputs": [
    {
     "data": {
      "image/png": "[encoded data removed]",
      "text/plain": [
       "<Figure size 1000x500 with 1 Axes>"
      ]
     },
     "metadata": {},
     "output_type": "display_data"
    },
    {
     "data": {
      "image/png": "[encoded data removed]",
      "text/plain": [
       "<Figure size 800x600 with 1 Axes>"
      ]
     },
     "metadata": {},
     "output_type": "display_data"
    }
   ],
   "source": [
    "import pandas as pd\n",
    "import matplotlib.pyplot as plt\n",
    "\n",
    "# Create the data from the provided information\n",
    "data = {\n",
    "    \"PatientID\": [1, 2, 3, 4, 5, 6, 7, 8, 9, 10],\n",
    "    \"Age\": [45, 34, 29, 52, 37, 41, 33, 48, 26, 39],\n",
    "    \"Gender\": ['M', 'F', 'M', 'F', 'M', 'F', 'M', 'F', 'M', 'F'],\n",
    "    \"InitialHealthScore\": [84, 78, 83, 81, 81, 80, 79, 85, 76, 83],\n",
    "    \"FinalHealthScore\": [86, 86, 80, 86, 84, 86, 86, 82, 83, 84]\n",
    "}\n",
    "\n",
    "df = pd.DataFrame(data)\n",
    "\n",
    "# Calculate the difference between final and initial health scores\n",
    "df['HealthScoreDifference'] = df['FinalHealthScore'] - df['InitialHealthScore']\n",
    "\n",
    "# Plot initial vs final health scores\n",
    "plt.figure(figsize=(10, 5))\n",
    "\n",
    "# Box plot for initial and final health scores\n",
    "df[['InitialHealthScore', 'FinalHealthScore']].boxplot()\n",
    "plt.title('Initial vs Final Health Scores')\n",
    "plt.ylabel('Health Scores')\n",
    "\n",
    "plt.show()\n",
    "\n",
    "# Scatter plot to visualize the relationship between Initial and Final health scores\n",
    "plt.figure(figsize=(8, 6))\n",
    "plt.scatter(df['InitialHealthScore'], df['FinalHealthScore'], color='b', label='Patients')\n",
    "plt.plot([70, 90], [70, 90], color='r', linestyle='--', label='No Improvement Line')\n",
    "plt.xlabel('Initial Health Score')\n",
    "plt.ylabel('Final Health Score')\n",
    "plt.title('Scatter Plot of Initial vs Final Health Scores')\n",
    "plt.legend()\n",
    "\n",
    "plt.show()\n"
   ]
  },
  {
   "cell_type": "code",
   "execution_count": null,
   "id": "c3295fbf",
   "metadata": {},
   "outputs": [],
   "source": [
    "#As seen in the plots, the vaccine seems to work well, yet we still need a hypothesis test to see whether it works formally"
   ]
  },
  {
   "cell_type": "code",
   "execution_count": null,
   "id": "d65bb077",
   "metadata": {},
   "outputs": [],
   "source": [
    "#Make H0: vaccine is not working. Which means, the average improvement after the vaccination is samller than or equal to 0\n",
    "#Since we only have a small sample, bootstrap to create simulated samples and calculate 95% confidence interval"
   ]
  },
  {
   "cell_type": "code",
   "execution_count": 2,
   "id": "8832a9ea",
   "metadata": {},
   "outputs": [
    {
     "data": {
      "text/plain": [
       "(0.8, 5.5)"
      ]
     },
     "execution_count": 2,
     "metadata": {},
     "output_type": "execute_result"
    }
   ],
   "source": [
    "# Bootstrapping to calculate the confidence interval for the mean difference in health scores\n",
    "\n",
    "# Define the number of bootstrap samples\n",
    "n_bootstraps = 10000\n",
    "\n",
    "# Extract the health score differences\n",
    "differences = df['HealthScoreDifference'].values\n",
    "\n",
    "# Perform bootstrapping\n",
    "boot_means = np.empty(n_bootstraps)\n",
    "\n",
    "for i in range(n_bootstraps):\n",
    "    boot_sample = np.random.choice(differences, size=len(differences), replace=True)\n",
    "    boot_means[i] = np.mean(boot_sample)\n",
    "\n",
    "# Calculate the 95% confidence interval\n",
    "ci_lower = np.percentile(boot_means, 2.5)\n",
    "ci_upper = np.percentile(boot_means, 97.5)\n",
    "\n",
    "# Display the results\n",
    "ci_lower, ci_upper\n"
   ]
  },
  {
   "cell_type": "code",
   "execution_count": null,
   "id": "2700e8a0",
   "metadata": {},
   "outputs": [],
   "source": [
    "#As \"smaller or equal to zero\" is not included in the interval, we are 95% confidence to say that H0 is wrong. Thus we reject H0\n",
    "#and proved that the vaccine is likely to work well."
   ]
  },
  {
   "cell_type": "code",
   "execution_count": null,
   "id": "9de09910",
   "metadata": {},
   "outputs": [],
   "source": [
    "#Post Lec 5\n",
    "#Yes, I fully understand all the concept in the lecture and is ready for the tut and the next lecture."
   ]
  }
 ],
 "metadata": {
  "kernelspec": {
   "display_name": "Python 3 (ipykernel)",
   "language": "python",
   "name": "python3"
  },
  "language_info": {
   "codemirror_mode": {
    "name": "ipython",
    "version": 3
   },
   "file_extension": ".py",
   "mimetype": "text/x-python",
   "name": "python",
   "nbconvert_exporter": "python",
   "pygments_lexer": "ipython3",
   "version": "3.11.6"
  }
 },
 "nbformat": 4,
 "nbformat_minor": 5
}
